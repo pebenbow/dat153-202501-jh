{
 "cells": [
  {
   "cell_type": "markdown",
   "id": "a07f520a",
   "metadata": {},
   "source": [
    "### Establishing a connection with Python\n",
    "\n",
    "Next, let's create a Python notebook in our folder named `pg_connect.ipynb`. This will be where we do our work.\n",
    "\n",
    "Now we need to connect to a Python environment. For this course, I had T&I establish a pre-configured environment called `DAT153-shared`, which you should be able to access by clicking the \"Select Kernel\" button in the upper-right corner of the notebook.\n",
    "\n",
    "Once we're connected to the right kernel, let's add a new code cell at the top and import the packages we need:\n",
    "\n",
    "- `sqlalchemy` will help us connect to Postgres\n",
    "- `pandas` will help us store and manipulate the data in data frames\n",
    "- `os` gives us tools to store passwords and other secrets like API keys\n",
    "- `dotenv` lets us read key-value pairs from the `.env` file we created earlier\n",
    "\n",
    "Then we can run `load_dotenv()` to retrieve our password from the `.env` file:"
   ]
  },
  {
   "cell_type": "code",
   "execution_count": null,
   "id": "d7761fe5-cb61-43db-afe7-0ef13c78a903",
   "metadata": {},
   "outputs": [],
   "source": [
    "from sqlalchemy import create_engine\n",
    "import pandas as pd\n",
    "import os\n",
    "from dotenv import load_dotenv\n",
    "\n",
    "# Load environment variables from .env file\n",
    "load_dotenv()"
   ]
  },
  {
   "cell_type": "markdown",
   "id": "a9e9a073",
   "metadata": {},
   "source": [
    "In the next code cell, we can establish the connection parameters for PostgreSQL:"
   ]
  },
  {
   "cell_type": "code",
   "execution_count": null,
   "id": "1748477a",
   "metadata": {},
   "outputs": [],
   "source": [
    "username = 'pebenbow'\n",
    "password = os.getenv('PG_PASSWORD')\n",
    "host = 'dat153db.ada.davidson.edu'\n",
    "port = '63560'\n",
    "database = 'houston'\n",
    "\n",
    "connection_url = f\"postgresql://{username}:{password}@{host}:{port}/{database}\"\n",
    "\n",
    "engine = create_engine(connection_url)"
   ]
  },
  {
   "cell_type": "markdown",
   "id": "a91fd34d",
   "metadata": {},
   "source": [
    "The `create_engine()` function returns an \"engine\" object, which is SQLAlchemy's way of creating and maintaining database connections.\n",
    "\n",
    "Now we can get to the fun stuff!"
   ]
  },
  {
   "cell_type": "markdown",
   "id": "ec101125",
   "metadata": {},
   "source": [
    "### Querying the database with Python\n",
    "\n",
    "The `inspect()` function in SQLAlchemy allows us to retrieve metadata about our database, including tables, columns, keys, indexes, and so forth. This command loops through all the tables of a given schema and returns these features of the database:"
   ]
  },
  {
   "cell_type": "code",
   "execution_count": null,
   "id": "a0dc78d0",
   "metadata": {},
   "outputs": [],
   "source": [
    "from sqlalchemy import inspect\n",
    "\n",
    "inspector = inspect(engine)\n",
    "\n",
    "schema_name = 'solution1'\n",
    "\n",
    "# Get a list of all table names\n",
    "table_names = inspector.get_table_names(schema_name)\n",
    "print(\"Tables:\", table_names)\n",
    "\n",
    "# Iterate through tables and print column information\n",
    "for table_name in table_names:\n",
    "    print(f\"\\nTable: {table_name}\")\n",
    "    columns = inspector.get_columns(table_name,schema_name)\n",
    "    for col in columns:\n",
    "        print(f\"  Column: {col['name']} (Type: {col['type']}, Nullable: {col['nullable']})\")\n",
    "\n",
    "    # You can also get other metadata like primary keys, foreign keys, and indexes\n",
    "    primary_keys = inspector.get_pk_constraint(table_name,schema_name)\n",
    "    print(f\"  Primary Keys: {primary_keys.get('constrained_columns')}\")\n",
    "\n",
    "    foreign_keys = inspector.get_foreign_keys(table_name,schema_name)\n",
    "    print(f\"  Foreign Keys: {foreign_keys}\")\n",
    "\n",
    "    indexes = inspector.get_indexes(table_name,schema_name)\n",
    "    print(f\"  Indexes: {indexes}\")"
   ]
  },
  {
   "cell_type": "markdown",
   "id": "79dba620",
   "metadata": {},
   "source": [
    "Next, we can run some `SELECT` statements:"
   ]
  },
  {
   "cell_type": "code",
   "execution_count": null,
   "id": "6395b9e6-88e5-489d-9dc0-336996e27d1b",
   "metadata": {},
   "outputs": [],
   "source": [
    "query = \"SELECT * FROM solution1.funds;\"\n",
    "\n",
    "df = pd.read_sql(query, engine)\n",
    "\n",
    "print(df)"
   ]
  }
 ],
 "metadata": {
  "kernelspec": {
   "display_name": "DAT153-shared",
   "language": "python",
   "name": "python3"
  },
  "language_info": {
   "codemirror_mode": {
    "name": "ipython",
    "version": 3
   },
   "file_extension": ".py",
   "mimetype": "text/x-python",
   "name": "python",
   "nbconvert_exporter": "python",
   "pygments_lexer": "ipython3",
   "version": "3.12.12"
  }
 },
 "nbformat": 4,
 "nbformat_minor": 5
}
